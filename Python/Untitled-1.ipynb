{
    "cells": [
        {
            "cell_type": "code",
            "execution_count": null,
            "source": [
                "from lxml import etree\r\n",
                "text='''\r\n",
                "<div>\r\n",
                "    <ul>\r\n",
                "        <li class=\"item-1\"><a href=\"link1.html\">第一个</a></li>\r\n",
                "        <li class=\"item-2\"><a href=\"link2.html\">second item</a></li>\r\n",
                "        <li class=\"item-3\"><a href=\"link3.html\">a 属性</a></li>\r\n",
                "    </ul>\r\n",
                "</div>\r\n",
                "'''\r\n",
                "html=etree.HTML(text)\r\n",
                "result=etree.tostring(html,encoding='utf-8')\r\n",
                "print(type(html))\r\n",
                "print(type(result))\r\n",
                "print(result.decode('utf-8'))"
            ],
            "outputs": [
                {
                    "output_type": "error",
                    "ename": "Error",
                    "evalue": "Session cannot generate requests",
                    "traceback": [
                        "Error: Session cannot generate requests",
                        "at w.executeCodeCell (c:\\Users\\C5327170\\.vscode\\extensions\\ms-toolsai.jupyter-2021.8.1236758218\\out\\client\\extension.js:90:327199)",
                        "at w.execute (c:\\Users\\C5327170\\.vscode\\extensions\\ms-toolsai.jupyter-2021.8.1236758218\\out\\client\\extension.js:90:326520)",
                        "at w.start (c:\\Users\\C5327170\\.vscode\\extensions\\ms-toolsai.jupyter-2021.8.1236758218\\out\\client\\extension.js:90:322336)",
                        "at runMicrotasks (<anonymous>)",
                        "at processTicksAndRejections (internal/process/task_queues.js:93:5)",
                        "at async t.CellExecutionQueue.executeQueuedCells (c:\\Users\\C5327170\\.vscode\\extensions\\ms-toolsai.jupyter-2021.8.1236758218\\out\\client\\extension.js:90:336863)",
                        "at async t.CellExecutionQueue.start (c:\\Users\\C5327170\\.vscode\\extensions\\ms-toolsai.jupyter-2021.8.1236758218\\out\\client\\extension.js:90:336403)"
                    ]
                }
            ],
            "metadata": {}
        },
        {
            "cell_type": "code",
            "execution_count": null,
            "source": [
                "from lxml import etree\r\n",
                "\r\n",
                "htmlEmt = etree.parse('text.xml')\r\n",
                "result = etree.tostring(htmlEmt, pretty_print=True)\r\n",
                "print(result)"
            ],
            "outputs": [
                {
                    "output_type": "stream",
                    "name": "stdout",
                    "text": [
                        "b'<div>\\n    <ul>\\n        <li class=\"item-1\"><a href=\"link1.html\">&#31532;&#19968;&#20010;</a></li>\\n        <li class=\"item-2\"><a href=\"link2.html\">second item</a></li>\\n        <li class=\"item-3\"><a href=\"link3.html\">a &#23646;&#24615;</a></li>\\n        <li class=\"item-inactive\"><a href=\"link3.html\"><span class=\"bold\">third item</span></a></li>\\n    </ul>\\n</div>\\n'\n"
                    ]
                }
            ],
            "metadata": {}
        },
        {
            "cell_type": "markdown",
            "source": [
                "from lxml import etree\r\n",
                "htmlEmt = etree.parse('text.xml')\r\n",
                "result = htmlEmt.xpath('//li//span')\r\n",
                "print(result)\r\n",
                "print(len(result))\r\n",
                "print(result[0])"
            ],
            "metadata": {}
        },
        {
            "cell_type": "code",
            "execution_count": null,
            "source": [
                "import requests\r\n",
                "from lxml import etree\r\n",
                "\r\n",
                "headers = {\r\n",
                "    \"User-Agent\": \"Mozilla/5.0 (Windows NT 6.1; WOW64) AppleWebKit/537.36(KHTML, like Gecko) Chrome/71.0.3554.0 Safari/537.36\",\r\n",
                "    \"Referer\": \"https://movie.douban.com\",\r\n",
                "}\r\n",
                "url = \"https://movie.douban.com/cinema/nowplaying/chongqing/\"\r\n",
                "rep = requests.get(url, headers=headers)\r\n",
                "text = rep.text\r\n",
                "html = etree.HTML(text)\r\n",
                "ul = html.xpath(\"//ul[@class='lists']\")[0]\r\n",
                "lis = ul.xpath(\"./li\")\r\n",
                "movies = []\r\n",
                "for li in lis:\r\n",
                "    title = li.xpath(\"@data-title\")[0]\r\n",
                "    score = li.xpath(\"@data-score\")[0]\r\n",
                "    region = li.xpath(\"@data-region\")[0]\r\n",
                "    actors = li.xpath(\"@data-actors\")[0]\r\n",
                "    director = li.xpath(\"@data-director\")[0]\r\n",
                "    liimg = li.xpath(\".//img/@src\")\r\n",
                "    movie = {\r\n",
                "        \"title\": title,\r\n",
                "        \"score\": score,\r\n",
                "        \"region\": region,\r\n",
                "        \"actors\": actors,\r\n",
                "        \"director\": director,\r\n",
                "        \"liimg\": liimg,\r\n",
                "    }\r\n",
                "    movies.append(movie)\r\n",
                "print(movies)"
            ],
            "outputs": [
                {
                    "output_type": "stream",
                    "name": "stdout",
                    "text": [
                        "[{'title': '失控玩家', 'score': '7.8', 'region': '美国 加拿大', 'actors': '瑞安·雷诺兹 / 朱迪·科默 / 乔·基瑞', 'director': '肖恩·利维', 'liimg': ['https://img9.doubanio.com/view/photo/s_ratio_poster/public/p2677520025.jpg']}, {'title': '龙虎武师', 'score': '8.3', 'region': '中国大陆', 'actors': '徐克 / 袁和平 / 洪金宝', 'director': '魏君子', 'liimg': ['https://img9.doubanio.com/view/photo/s_ratio_poster/public/p2677158954.jpg']}, {'title': '怒火·重案', 'score': '7.5', 'region': '中国香港 中国大陆', 'actors': '甄子丹 / 谢霆锋 / 秦岚', 'director': '陈木胜', 'liimg': ['https://img1.doubanio.com/view/photo/s_ratio_poster/public/p2673412189.jpg']}, {'title': '夏日友晴天', 'score': '7.4', 'region': '美国', 'actors': '雅各布·特伦布莱 / 杰克·迪伦·格雷泽 / 艾玛·伯曼', 'director': '埃里康·卡萨罗萨', 'liimg': ['https://img1.doubanio.com/view/photo/s_ratio_poster/public/p2675958609.jpg']}, {'title': '混沌行走', 'score': '5.2', 'region': '美国 加拿大', 'actors': '汤姆·赫兰德 / 黛西·雷德利 / 德米安·比齐尔', 'director': '道格·里曼', 'liimg': ['https://img9.doubanio.com/view/photo/s_ratio_poster/public/p2676934276.jpg']}, {'title': '再见，少年', 'score': '4.9', 'region': '中国大陆', 'actors': '张子枫 / 张宥浩 / 徐帆', 'director': '殷若昕', 'liimg': ['https://img2.doubanio.com/view/photo/s_ratio_poster/public/p2676541622.jpg']}, {'title': '测谎人', 'score': '2.7', 'region': '中国大陆', 'actors': '马丽 / 文章 / 梁超', 'director': '杨沅翰', 'liimg': ['https://img1.doubanio.com/view/photo/s_ratio_poster/public/p2676943868.jpg']}, {'title': '白蛇2：青蛇劫起', 'score': '7.2', 'region': '中国大陆', 'actors': '唐小喜 / 歪歪 / 魏超', 'director': '黄家康', 'liimg': ['https://img2.doubanio.com/view/photo/s_ratio_poster/public/p2676545572.jpg']}, {'title': '盛夏未来', 'score': '7.4', 'region': '中国大陆', 'actors': '张子枫 / 吴磊 / 郝蕾', 'director': '陈正道', 'liimg': ['https://img1.doubanio.com/view/photo/s_ratio_poster/public/p2673420377.jpg']}, {'title': '兔子暴力', 'score': '6.2', 'region': '中国大陆', 'actors': '万茜 / 李庚希 / 黄觉', 'director': '申瑜', 'liimg': ['https://img9.doubanio.com/view/photo/s_ratio_poster/public/p2675924254.jpg']}, {'title': '最后一间房', 'score': '0', 'region': '中国大陆', 'actors': '宋伊人 / 倪虹洁 / 陶慧', 'director': '高博', 'liimg': ['https://img2.doubanio.com/view/photo/s_ratio_poster/public/p2676977463.jpg']}, {'title': '乔西的虎与鱼', 'score': '6.4', 'region': '日本', 'actors': '清原果耶 / 中川大志 / 宫本侑芽', 'director': '田村耕太郎', 'liimg': ['https://img1.doubanio.com/view/photo/s_ratio_poster/public/p2677553878.jpg']}, {'title': '贝肯熊2：金牌特工', 'score': '5.0', 'region': '中国大陆', 'actors': '汤水雨 / 孟子焱 / 徐佳琦', 'director': '张扬', 'liimg': ['https://img9.doubanio.com/view/photo/s_ratio_poster/public/p2654242565.jpg']}, {'title': '小花仙大电影：奇迹少女', 'score': '0', 'region': '中国大陆', 'actors': '醋醋 / 冯骏骅 / 黑石稔', 'director': '岳淑馨', 'liimg': ['https://img2.doubanio.com/view/photo/s_ratio_poster/public/p2673157703.jpg']}, {'title': '中国医生', 'score': '6.9', 'region': '中国大陆', 'actors': '张涵予 / 袁泉 / 朱亚文', 'director': '刘伟强', 'liimg': ['https://img9.doubanio.com/view/photo/s_ratio_poster/public/p2666591984.jpg']}, {'title': '忠犬流浪记', 'score': '0', 'region': '中国大陆', 'actors': '叮当 / 应昊茗 / 王硕', 'director': '桑凯·维杜朗', 'liimg': ['https://img1.doubanio.com/view/photo/s_ratio_poster/public/p2567862389.jpg']}, {'title': '白马王子', 'score': '5.8', 'region': '加拿大 美国', 'actors': '塔拉·斯特朗 / 维尔摩·瓦尔德拉玛 / 阿什丽·提斯代尔', 'director': '罗斯·维诺库尔', 'liimg': ['https://img9.doubanio.com/view/photo/s_ratio_poster/public/p2676929296.jpg']}, {'title': '你的情歌', 'score': '5.6', 'region': '中国台湾', 'actors': '柯佳嬿 / 傅孟柏 / 谢博安', 'director': '安竹间', 'liimg': ['https://img9.doubanio.com/view/photo/s_ratio_poster/public/p2676259504.jpg']}, {'title': '流浪猫鲍勃2：鲍勃的礼物', 'score': '6.7', 'region': '英国', 'actors': '卢克·崔德威 / 猫鲍勃 / 克里斯蒂娜·托内瑞·杨', 'director': '查尔斯·马丁·史密斯', 'liimg': ['https://img1.doubanio.com/view/photo/s_ratio_poster/public/p2674289979.jpg']}, {'title': '我的父亲焦裕禄', 'score': '0', 'region': '中国大陆', 'actors': '郭晓东 / 丁柳元 / 严晓频', 'director': '范元', 'liimg': ['https://img1.doubanio.com/view/photo/s_ratio_poster/public/p2673163209.jpg']}, {'title': '俑之城', 'score': '5.9', 'region': '中国大陆', 'actors': '朱光祖 / 张茗 / 周子瑜', 'director': '丁亮 林永长', 'liimg': ['https://img1.doubanio.com/view/photo/s_ratio_poster/public/p2656628179.jpg']}, {'title': '困在时间里的父亲', 'score': '8.6', 'region': '英国 法国', 'actors': '安东尼·霍普金斯 / 奥利维娅·科尔曼 / 马克·加蒂斯', 'director': '佛罗莱恩·泽勒', 'liimg': ['https://img9.doubanio.com/view/photo/s_ratio_poster/public/p2654915204.jpg']}, {'title': '当男人恋爱时', 'score': '6.5', 'region': '中国台湾 中国香港', 'actors': '邱泽 / 许玮甯 / 蔡振南', 'director': '殷振豪', 'liimg': ['https://img2.doubanio.com/view/photo/s_ratio_poster/public/p2656407373.jpg']}, {'title': '1921', 'score': '6.7', 'region': '中国大陆', 'actors': '黄轩 / 倪妮 / 王仁君', 'director': '黄建新 郑大圣', 'liimg': ['https://img9.doubanio.com/view/photo/s_ratio_poster/public/p2665014115.jpg']}, {'title': '我的爸爸是森林之王2', 'score': '6.0', 'region': '比利时 法国', 'actors': '罗杰·克莱格·史密斯 / 杰斯·诺曼 / 戴维·洛奇', 'director': '杰里米·德格鲁森 本·斯塔森', 'liimg': ['https://img9.doubanio.com/view/photo/s_ratio_poster/public/p2674166864.jpg']}, {'title': '江湖喜事', 'score': '0', 'region': '中国大陆', 'actors': '郭金杰 / 刘桦 / 李子雄', 'director': '段连民', 'liimg': ['https://img2.doubanio.com/view/photo/s_ratio_poster/public/p2675923573.jpg']}, {'title': '战狼2', 'score': '7.1', 'region': '中国大陆', 'actors': '吴京 / 弗兰克·格里罗 / 吴刚', 'director': '吴京', 'liimg': ['https://img9.doubanio.com/view/photo/s_ratio_poster/public/p2494701965.jpg']}, {'title': '你好世界', 'score': '7.0', 'region': '日本', 'actors': '北村匠海 / 松坂桃李 / 滨边美波', 'director': '伊藤智彦', 'liimg': ['https://img3.doubanio.com/view/photo/s_ratio_poster/public/p2654818960.jpg']}, {'title': '深潜日', 'score': '0', 'region': '中国大陆', 'actors': '李学庆 / 严蔚', 'director': '金鑫', 'liimg': ['https://img2.doubanio.com/view/photo/s_ratio_poster/public/p2672731641.jpg']}, {'title': '新大头儿子和小头爸爸4：完美爸爸', 'score': '5.0', 'region': '中国大陆', 'actors': '董浩 / 鞠萍 / 陈怡', 'director': '何澄 刘可欣', 'liimg': ['https://img1.doubanio.com/view/photo/s_ratio_poster/public/p2642992189.jpg']}, {'title': '危险记忆', 'score': '0', 'region': '中国大陆', 'actors': '甘婷婷 / 李滨 / 乔乔', 'director': '郭大群', 'liimg': ['https://img2.doubanio.com/view/photo/s_ratio_poster/public/p2675130263.jpg']}, {'title': '守岛人', 'score': '7.4', 'region': '中国大陆', 'actors': '刘烨 / 宫哲 / 侯勇', 'director': '陈力', 'liimg': ['https://img9.doubanio.com/view/photo/s_ratio_poster/public/p2660246504.jpg']}, {'title': '普罗米亚', 'score': '7.9', 'region': '日本', 'actors': '松山研一 / 早乙女太一 / 堺雅人', 'director': '今石洋之', 'liimg': ['https://img3.doubanio.com/view/photo/s_ratio_poster/public/p2652044770.jpg']}, {'title': '巧虎魔法岛历险记', 'score': '0', 'region': '中国大陆', 'actors': '李晔 / 沈达威 / 罗玉婷', 'director': '河村友宏', 'liimg': ['https://img2.doubanio.com/view/photo/s_ratio_poster/public/p2668649931.jpg']}, {'title': '红船', 'score': '0', 'region': '中国大陆', 'actors': '侯京健 / 陈都灵 / 王志飞', 'director': '沈东 王德庆', 'liimg': ['https://img2.doubanio.com/view/photo/s_ratio_poster/public/p2669012122.jpg']}, {'title': '地道战', 'score': '8.2', 'region': '中国大陆', 'actors': '朱龙广 / 张勇手 / 刘秀杰', 'director': '任旭东', 'liimg': ['https://img2.doubanio.com/view/photo/s_ratio_poster/public/p2551228401.jpg']}, {'title': '小兵张嘎', 'score': '7.8', 'region': '中国大陆', 'actors': '安吉斯 / 张莹 / 葛存壮', 'director': '崔嵬 欧阳红樱', 'liimg': ['https://img2.doubanio.com/view/photo/s_ratio_poster/public/p2314095621.jpg']}, {'title': '西游鱼之海底大冒险', 'score': '0', 'region': '中国大陆', 'actors': '', 'director': '贾泽龙', 'liimg': ['https://img1.doubanio.com/view/photo/s_ratio_poster/public/p2668928257.jpg']}, {'title': '狼牙山五壮士', 'score': '7.3', 'region': '中国大陆', 'actors': '李长华 / 高保成 / 李力', 'director': '史文炽', 'liimg': ['https://img2.doubanio.com/view/photo/s_ratio_poster/public/p2532680861.jpg']}, {'title': '平原游击队', 'score': '7.5', 'region': '中国大陆', 'actors': '郭振清 / 张莹 / 杜德夫', 'director': '苏里 武兆堤', 'liimg': ['https://img1.doubanio.com/view/photo/s_ratio_poster/public/p1578531668.jpg']}, {'title': '太行山上', 'score': '6.7', 'region': '中国大陆', 'actors': '王伍福 / 卢奇 / 梁家辉', 'director': '韦廉 沈东 陈健', 'liimg': ['https://img1.doubanio.com/view/photo/s_ratio_poster/public/p2361227637.jpg']}, {'title': '地雷战', 'score': '8.0', 'region': '中国大陆', 'actors': '白大钧 / 吴健海 / 张长瑞', 'director': '唐英奇 徐达 吴健海', 'liimg': ['https://img2.doubanio.com/view/photo/s_ratio_poster/public/p2537715313.jpg']}, {'title': '烈火金钢', 'score': '7.5', 'region': '中国', 'actors': '申军谊 / 赵小锐 / 宋春丽', 'director': '江浩 何群', 'liimg': ['https://img2.doubanio.com/view/photo/s_ratio_poster/public/p2460592991.jpg']}, {'title': '党的女儿', 'score': '6.9', 'region': '中国大陆', 'actors': '田华 / 李林 / 陈戈', 'director': '林农', 'liimg': ['https://img9.doubanio.com/view/photo/s_ratio_poster/public/p2541726755.jpg']}, {'title': '金沙江畔', 'score': '6.8', 'region': '中国大陆', 'actors': '崔超明 / 冯喆', 'director': '傅超武', 'liimg': ['https://img9.doubanio.com/view/photo/s_ratio_poster/public/p2521884655.jpg']}, {'title': '战上海', 'score': '6.6', 'region': '中国大陆', 'actors': '丁尼 / 高岩 / 胡晓光', 'director': '王冰', 'liimg': ['https://img1.doubanio.com/view/photo/s_ratio_poster/public/p2629596399.jpg']}]\n"
                    ]
                }
            ],
            "metadata": {}
        },
        {
            "cell_type": "code",
            "execution_count": null,
            "source": [
                "import requests\r\n",
                "\r\n",
                "def getHTMLText(url):\r\n",
                "    try:\r\n",
                "        r = requests.get(url, timeout=30)\r\n",
                "        r.raise_for_status() #如果状态不是200,引发HTTPError异常\r\n",
                "        r.encoding = r.apparent_encoding\r\n",
                "        return r.text\r\n",
                "    except:\r\n",
                "        return \"产生异常\"\r\n",
                "\r\n",
                "url = \"https://baidu.com\"\r\n",
                "getHTMLText(url)"
            ],
            "outputs": [
                {
                    "output_type": "execute_result",
                    "data": {
                        "text/plain": [
                            "'<!DOCTYPE html>\\r\\n<!--STATUS OK--><html> <head><meta http-equiv=content-type content=text/html;charset=utf-8><meta http-equiv=X-UA-Compatible content=IE=Edge><meta content=always name=referrer><link rel=stylesheet type=text/css href=http://s1.bdstatic.com/r/www/cache/bdorz/baidu.min.css><title>百度一下，你就知道</title></head> <body link=#0000cc> <div id=wrapper> <div id=head> <div class=head_wrapper> <div class=s_form> <div class=s_form_wrapper> <div id=lg> <img hidefocus=true src=//www.baidu.com/img/bd_logo1.png width=270 height=129> </div> <form id=form name=f action=//www.baidu.com/s class=fm> <input type=hidden name=bdorz_come value=1> <input type=hidden name=ie value=utf-8> <input type=hidden name=f value=8> <input type=hidden name=rsv_bp value=1> <input type=hidden name=rsv_idx value=1> <input type=hidden name=tn value=baidu><span class=\"bg s_ipt_wr\"><input id=kw name=wd class=s_ipt value maxlength=255 autocomplete=off autofocus></span><span class=\"bg s_btn_wr\"><input type=submit id=su value=百度一下 class=\"bg s_btn\"></span> </form> </div> </div> <div id=u1> <a href=http://news.baidu.com name=tj_trnews class=mnav>新闻</a> <a href=http://www.hao123.com name=tj_trhao123 class=mnav>hao123</a> <a href=http://map.baidu.com name=tj_trmap class=mnav>地图</a> <a href=http://v.baidu.com name=tj_trvideo class=mnav>视频</a> <a href=http://tieba.baidu.com name=tj_trtieba class=mnav>贴吧</a> <noscript> <a href=http://www.baidu.com/bdorz/login.gif?login&amp;tpl=mn&amp;u=http%3A%2F%2Fwww.baidu.com%2f%3fbdorz_come%3d1 name=tj_login class=lb>登录</a> </noscript> <script>document.write(\\'<a href=\"http://www.baidu.com/bdorz/login.gif?login&tpl=mn&u=\\'+ encodeURIComponent(window.location.href+ (window.location.search === \"\" ? \"?\" : \"&\")+ \"bdorz_come=1\")+ \\'\" name=\"tj_login\" class=\"lb\">登录</a>\\');</script> <a href=//www.baidu.com/more/ name=tj_briicon class=bri style=\"display: block;\">更多产品</a> </div> </div> </div> <div id=ftCon> <div id=ftConw> <p id=lh> <a href=http://home.baidu.com>关于百度</a> <a href=http://ir.baidu.com>About Baidu</a> </p> <p id=cp>&copy;2017&nbsp;Baidu&nbsp;<a href=http://www.baidu.com/duty/>使用百度前必读</a>&nbsp; <a href=http://jianyi.baidu.com/ class=cp-feedback>意见反馈</a>&nbsp;京ICP证030173号&nbsp; <img src=//www.baidu.com/img/gs.gif> </p> </div> </div> </div> </body> </html>\\r\\n'"
                        ]
                    },
                    "metadata": {},
                    "execution_count": 30
                }
            ],
            "metadata": {}
        },
        {
            "cell_type": "code",
            "execution_count": null,
            "source": [
                "import webbrowser as web\r\n",
                "\r\n",
                "url1 = \"https://baidu.com\"\r\n",
                "url2 = \"https://baidu.com\"\r\n",
                "url3 = \"https://baidu.com\"\r\n",
                "web.open(url1)\r\n",
                "web.open(url2)\r\n",
                "web.open(url3)"
            ],
            "outputs": [
                {
                    "output_type": "execute_result",
                    "data": {
                        "text/plain": [
                            "True"
                        ]
                    },
                    "metadata": {},
                    "execution_count": 35
                }
            ],
            "metadata": {}
        },
        {
            "cell_type": "code",
            "execution_count": null,
            "source": [
                "import sys\r\n",
                "from PyQt5.QtWidgets import QApplication, QWidget\r\n",
                "\r\n",
                "if __name__ == '__main__':\r\n",
                "    app = QApplication(sys.argv)    #创建应用对象；sys.argv是一个list，从命令行输入参数\r\n",
                "    w = QWidget()                   #QWidget是pyqt5所有用户界面对象的基类；提供默认构造函数，且默认构造函数没有父类\r\n",
                "    w.resize(250, 150)\r\n",
                "    w.move(300, 300)\r\n",
                "    w.setWindowTitle('Simple')\r\n",
                "    w.show()\r\n",
                "    \r\n",
                "    sys.exit(app.exec_())"
            ],
            "outputs": [
                {
                    "output_type": "error",
                    "ename": "Error",
                    "evalue": "Session cannot generate requests",
                    "traceback": [
                        "Error: Session cannot generate requests",
                        "at w.executeCodeCell (c:\\Users\\C5327170\\.vscode\\extensions\\ms-toolsai.jupyter-2021.8.1236758218\\out\\client\\extension.js:90:327199)",
                        "at w.execute (c:\\Users\\C5327170\\.vscode\\extensions\\ms-toolsai.jupyter-2021.8.1236758218\\out\\client\\extension.js:90:326520)",
                        "at w.start (c:\\Users\\C5327170\\.vscode\\extensions\\ms-toolsai.jupyter-2021.8.1236758218\\out\\client\\extension.js:90:322336)",
                        "at runMicrotasks (<anonymous>)",
                        "at processTicksAndRejections (internal/process/task_queues.js:93:5)",
                        "at async t.CellExecutionQueue.executeQueuedCells (c:\\Users\\C5327170\\.vscode\\extensions\\ms-toolsai.jupyter-2021.8.1236758218\\out\\client\\extension.js:90:336863)",
                        "at async t.CellExecutionQueue.start (c:\\Users\\C5327170\\.vscode\\extensions\\ms-toolsai.jupyter-2021.8.1236758218\\out\\client\\extension.js:90:336403)"
                    ]
                }
            ],
            "metadata": {}
        },
        {
            "cell_type": "code",
            "execution_count": 1,
            "source": [
                "import sys\r\n",
                "from PyQt5.QtWidgets import QMainWindow, QTextEdit, QAction, QApplication\r\n",
                "from PyQt5.QtGui import QIcon\r\n",
                " \r\n",
                " \r\n",
                "class Example(QMainWindow):\r\n",
                "    \r\n",
                "    def __init__(self):\r\n",
                "        super().__init__()\r\n",
                "        \r\n",
                "        self.initUI()\r\n",
                "        \r\n",
                "        \r\n",
                "    def initUI(self): \r\n",
                "        textEdit = QTextEdit()\r\n",
                "        self.setCentralWidget(textEdit)\r\n",
                "\r\n",
                "        exitAction = QAction(QIcon('web.png'), 'Exit', self)\r\n",
                "        exitAction.setShortcut('Ctrl+Q')\r\n",
                "        exitAction.setStatusTip('Exit application')\r\n",
                "        exitAction.triggered.connect(self.close)\r\n",
                " \r\n",
                "        self.statusBar()\r\n",
                " \r\n",
                "        menubar = self.menuBar()\r\n",
                "        fileMenu = menubar.addMenu('&File')\r\n",
                "        fileMenu.addAction(exitAction)\r\n",
                " \r\n",
                "        toolbar = self.addToolBar('Exit')\r\n",
                "        toolbar.addAction(exitAction)\r\n",
                "        \r\n",
                "        self.setGeometry(300, 300, 350, 250)\r\n",
                "        self.setWindowTitle('Main window')    \r\n",
                "        self.show()\r\n",
                "        \r\n",
                "        \r\n",
                "if __name__ == '__main__':\r\n",
                "    \r\n",
                "    app = QApplication(sys.argv)\r\n",
                "    ex = Example()\r\n",
                "    sys.exit(app.exec_())"
            ],
            "outputs": [
                {
                    "output_type": "error",
                    "ename": "SystemExit",
                    "evalue": "0",
                    "traceback": [
                        "An exception has occurred, use %tb to see the full traceback.\n",
                        "\u001b[1;31mSystemExit\u001b[0m\u001b[1;31m:\u001b[0m 0\n"
                    ]
                },
                {
                    "output_type": "stream",
                    "name": "stderr",
                    "text": [
                        "C:\\Users\\C5327170\\AppData\\Local\\Programs\\Python\\Python39\\lib\\site-packages\\IPython\\core\\interactiveshell.py:3449: UserWarning: To exit: use 'exit', 'quit', or Ctrl-D.\n",
                        "  warn(\"To exit: use 'exit', 'quit', or Ctrl-D.\", stacklevel=1)\n"
                    ]
                }
            ],
            "metadata": {}
        }
    ],
    "metadata": {
        "orig_nbformat": 4,
        "language_info": {
            "name": "python",
            "version": "3.9.6",
            "mimetype": "text/x-python",
            "codemirror_mode": {
                "name": "ipython",
                "version": 3
            },
            "pygments_lexer": "ipython3",
            "nbconvert_exporter": "python",
            "file_extension": ".py"
        },
        "kernelspec": {
            "name": "python3",
            "display_name": "Python 3.9.6 64-bit"
        },
        "interpreter": {
            "hash": "7a553590068c63487afbd5399bace61d57d14694a72023b079c285c007ca4d29"
        }
    },
    "nbformat": 4,
    "nbformat_minor": 2
}